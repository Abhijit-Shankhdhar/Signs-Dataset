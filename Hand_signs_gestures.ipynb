{
 "cells": [
  {
   "cell_type": "markdown",
   "metadata": {},
   "source": [
    "# Hands Signs Dataset"
   ]
  },
  {
   "cell_type": "markdown",
   "metadata": {},
   "source": [
    "* The dataset format is patterned to match closely with the classic MNIST.\n",
    "<br>\n",
    "* Each training and test case represents a **label (0-25)** as a one-to-one map for each alphabet letter A-Z (and no cases for 9=J or 25=Z because of gesture motions).<br> \n",
    "* The training data **(27,455 cases)** and test data **(7172 cases)** are approximately half the size of the standard MNIST but otherwise similar with a header row of label, pixel1,pixel2....pixel784 which represent a single **28x28** pixel image with grayscale values between 0-255.<br>\n",
    "* The original hand gesture image data represented multiple users repeating the gesture against different backgrounds. <br><br>\n",
    "* This is what the data looks like:\n",
    "\n",
    "![Label Images](hand_gestures.png \"Data\")<br>\n",
    "## Dataset Description:<br>\n",
    "Each image is **28** pixels in height and **28** pixels in width, for a total of 784 pixels in total. Each pixel has a single pixel-value associated with it, indicating the lightness or darkness of that pixel, with higher numbers meaning darker. This pixel-value is an integer between 0 and 255. The training and test data sets have 785 columns. The first column consists of the class labels (see above), and represents the article of clothing. The rest of the columns contain the pixel-values of the associated image.<br>\n",
    "## Objectives:"
   ]
  },
  {
   "cell_type": "markdown",
   "metadata": {},
   "source": [
    "* View the data as an image\n",
    "* Train different classifiers\n",
    "* Compare performance for different classifiers using various metrics"
   ]
  },
  {
   "cell_type": "markdown",
   "metadata": {},
   "source": [
    "## Importing the Required Libraries"
   ]
  },
  {
   "cell_type": "code",
   "execution_count": 67,
   "metadata": {},
   "outputs": [],
   "source": [
    "import pandas as pd\n",
    "import numpy as np\n",
    "import seaborn as sns\n",
    "import matplotlib.pyplot as plt\n",
    "%matplotlib inline\n",
    "import warnings; warnings.simplefilter('ignore')\n",
    "from sklearn.model_selection import train_test_split\n",
    "import datetime"
   ]
  },
  {
   "cell_type": "markdown",
   "metadata": {},
   "source": [
    "## Loading the Data"
   ]
  },
  {
   "cell_type": "code",
   "execution_count": 4,
   "metadata": {},
   "outputs": [],
   "source": [
    "hand_sign=pd.read_csv('sign_mnist_train.csv')"
   ]
  },
  {
   "cell_type": "code",
   "execution_count": 5,
   "metadata": {},
   "outputs": [
    {
     "data": {
      "text/html": [
       "<div>\n",
       "<style scoped>\n",
       "    .dataframe tbody tr th:only-of-type {\n",
       "        vertical-align: middle;\n",
       "    }\n",
       "\n",
       "    .dataframe tbody tr th {\n",
       "        vertical-align: top;\n",
       "    }\n",
       "\n",
       "    .dataframe thead th {\n",
       "        text-align: right;\n",
       "    }\n",
       "</style>\n",
       "<table border=\"1\" class=\"dataframe\">\n",
       "  <thead>\n",
       "    <tr style=\"text-align: right;\">\n",
       "      <th></th>\n",
       "      <th>label</th>\n",
       "      <th>pixel1</th>\n",
       "      <th>pixel2</th>\n",
       "      <th>pixel3</th>\n",
       "      <th>pixel4</th>\n",
       "      <th>pixel5</th>\n",
       "      <th>pixel6</th>\n",
       "      <th>pixel7</th>\n",
       "      <th>pixel8</th>\n",
       "      <th>pixel9</th>\n",
       "      <th>...</th>\n",
       "      <th>pixel775</th>\n",
       "      <th>pixel776</th>\n",
       "      <th>pixel777</th>\n",
       "      <th>pixel778</th>\n",
       "      <th>pixel779</th>\n",
       "      <th>pixel780</th>\n",
       "      <th>pixel781</th>\n",
       "      <th>pixel782</th>\n",
       "      <th>pixel783</th>\n",
       "      <th>pixel784</th>\n",
       "    </tr>\n",
       "  </thead>\n",
       "  <tbody>\n",
       "    <tr>\n",
       "      <th>0</th>\n",
       "      <td>3</td>\n",
       "      <td>107</td>\n",
       "      <td>118</td>\n",
       "      <td>127</td>\n",
       "      <td>134</td>\n",
       "      <td>139</td>\n",
       "      <td>143</td>\n",
       "      <td>146</td>\n",
       "      <td>150</td>\n",
       "      <td>153</td>\n",
       "      <td>...</td>\n",
       "      <td>207</td>\n",
       "      <td>207</td>\n",
       "      <td>207</td>\n",
       "      <td>207</td>\n",
       "      <td>206</td>\n",
       "      <td>206</td>\n",
       "      <td>206</td>\n",
       "      <td>204</td>\n",
       "      <td>203</td>\n",
       "      <td>202</td>\n",
       "    </tr>\n",
       "    <tr>\n",
       "      <th>1</th>\n",
       "      <td>6</td>\n",
       "      <td>155</td>\n",
       "      <td>157</td>\n",
       "      <td>156</td>\n",
       "      <td>156</td>\n",
       "      <td>156</td>\n",
       "      <td>157</td>\n",
       "      <td>156</td>\n",
       "      <td>158</td>\n",
       "      <td>158</td>\n",
       "      <td>...</td>\n",
       "      <td>69</td>\n",
       "      <td>149</td>\n",
       "      <td>128</td>\n",
       "      <td>87</td>\n",
       "      <td>94</td>\n",
       "      <td>163</td>\n",
       "      <td>175</td>\n",
       "      <td>103</td>\n",
       "      <td>135</td>\n",
       "      <td>149</td>\n",
       "    </tr>\n",
       "    <tr>\n",
       "      <th>2</th>\n",
       "      <td>2</td>\n",
       "      <td>187</td>\n",
       "      <td>188</td>\n",
       "      <td>188</td>\n",
       "      <td>187</td>\n",
       "      <td>187</td>\n",
       "      <td>186</td>\n",
       "      <td>187</td>\n",
       "      <td>188</td>\n",
       "      <td>187</td>\n",
       "      <td>...</td>\n",
       "      <td>202</td>\n",
       "      <td>201</td>\n",
       "      <td>200</td>\n",
       "      <td>199</td>\n",
       "      <td>198</td>\n",
       "      <td>199</td>\n",
       "      <td>198</td>\n",
       "      <td>195</td>\n",
       "      <td>194</td>\n",
       "      <td>195</td>\n",
       "    </tr>\n",
       "    <tr>\n",
       "      <th>3</th>\n",
       "      <td>2</td>\n",
       "      <td>211</td>\n",
       "      <td>211</td>\n",
       "      <td>212</td>\n",
       "      <td>212</td>\n",
       "      <td>211</td>\n",
       "      <td>210</td>\n",
       "      <td>211</td>\n",
       "      <td>210</td>\n",
       "      <td>210</td>\n",
       "      <td>...</td>\n",
       "      <td>235</td>\n",
       "      <td>234</td>\n",
       "      <td>233</td>\n",
       "      <td>231</td>\n",
       "      <td>230</td>\n",
       "      <td>226</td>\n",
       "      <td>225</td>\n",
       "      <td>222</td>\n",
       "      <td>229</td>\n",
       "      <td>163</td>\n",
       "    </tr>\n",
       "    <tr>\n",
       "      <th>4</th>\n",
       "      <td>13</td>\n",
       "      <td>164</td>\n",
       "      <td>167</td>\n",
       "      <td>170</td>\n",
       "      <td>172</td>\n",
       "      <td>176</td>\n",
       "      <td>179</td>\n",
       "      <td>180</td>\n",
       "      <td>184</td>\n",
       "      <td>185</td>\n",
       "      <td>...</td>\n",
       "      <td>92</td>\n",
       "      <td>105</td>\n",
       "      <td>105</td>\n",
       "      <td>108</td>\n",
       "      <td>133</td>\n",
       "      <td>163</td>\n",
       "      <td>157</td>\n",
       "      <td>163</td>\n",
       "      <td>164</td>\n",
       "      <td>179</td>\n",
       "    </tr>\n",
       "  </tbody>\n",
       "</table>\n",
       "<p>5 rows × 785 columns</p>\n",
       "</div>"
      ],
      "text/plain": [
       "   label  pixel1  pixel2  pixel3  pixel4  pixel5  pixel6  pixel7  pixel8  \\\n",
       "0      3     107     118     127     134     139     143     146     150   \n",
       "1      6     155     157     156     156     156     157     156     158   \n",
       "2      2     187     188     188     187     187     186     187     188   \n",
       "3      2     211     211     212     212     211     210     211     210   \n",
       "4     13     164     167     170     172     176     179     180     184   \n",
       "\n",
       "   pixel9    ...     pixel775  pixel776  pixel777  pixel778  pixel779  \\\n",
       "0     153    ...          207       207       207       207       206   \n",
       "1     158    ...           69       149       128        87        94   \n",
       "2     187    ...          202       201       200       199       198   \n",
       "3     210    ...          235       234       233       231       230   \n",
       "4     185    ...           92       105       105       108       133   \n",
       "\n",
       "   pixel780  pixel781  pixel782  pixel783  pixel784  \n",
       "0       206       206       204       203       202  \n",
       "1       163       175       103       135       149  \n",
       "2       199       198       195       194       195  \n",
       "3       226       225       222       229       163  \n",
       "4       163       157       163       164       179  \n",
       "\n",
       "[5 rows x 785 columns]"
      ]
     },
     "execution_count": 5,
     "metadata": {},
     "output_type": "execute_result"
    }
   ],
   "source": [
    "#Print first 5 rows of the data\n",
    "hand_sign.head()"
   ]
  },
  {
   "cell_type": "code",
   "execution_count": 6,
   "metadata": {},
   "outputs": [
    {
     "data": {
      "text/plain": [
       "(27455, 785)"
      ]
     },
     "execution_count": 6,
     "metadata": {},
     "output_type": "execute_result"
    }
   ],
   "source": [
    "hand_sign.shape"
   ]
  },
  {
   "cell_type": "code",
   "execution_count": 7,
   "metadata": {},
   "outputs": [
    {
     "name": "stdout",
     "output_type": "stream",
     "text": [
      "<class 'pandas.core.frame.DataFrame'>\n",
      "RangeIndex: 27455 entries, 0 to 27454\n",
      "Columns: 785 entries, label to pixel784\n",
      "dtypes: int64(785)\n",
      "memory usage: 164.4 MB\n"
     ]
    }
   ],
   "source": [
    "hand_sign.info()"
   ]
  },
  {
   "cell_type": "code",
   "execution_count": 10,
   "metadata": {},
   "outputs": [],
   "source": [
    "label=hand_sign['label']"
   ]
  },
  {
   "cell_type": "code",
   "execution_count": 14,
   "metadata": {},
   "outputs": [
    {
     "data": {
      "text/plain": [
       "0     3\n",
       "1     6\n",
       "2     2\n",
       "3     2\n",
       "4    13\n",
       "Name: label, dtype: int64"
      ]
     },
     "execution_count": 14,
     "metadata": {},
     "output_type": "execute_result"
    }
   ],
   "source": [
    "#Print first five rows of label\n",
    "label[0:5]"
   ]
  },
  {
   "cell_type": "code",
   "execution_count": 15,
   "metadata": {},
   "outputs": [],
   "source": [
    "#Dropping the label column from the data\n",
    "hand_sign.drop(['label'],inplace=True,axis=1)"
   ]
  },
  {
   "cell_type": "code",
   "execution_count": 16,
   "metadata": {},
   "outputs": [
    {
     "data": {
      "text/html": [
       "<div>\n",
       "<style scoped>\n",
       "    .dataframe tbody tr th:only-of-type {\n",
       "        vertical-align: middle;\n",
       "    }\n",
       "\n",
       "    .dataframe tbody tr th {\n",
       "        vertical-align: top;\n",
       "    }\n",
       "\n",
       "    .dataframe thead th {\n",
       "        text-align: right;\n",
       "    }\n",
       "</style>\n",
       "<table border=\"1\" class=\"dataframe\">\n",
       "  <thead>\n",
       "    <tr style=\"text-align: right;\">\n",
       "      <th></th>\n",
       "      <th>pixel1</th>\n",
       "      <th>pixel2</th>\n",
       "      <th>pixel3</th>\n",
       "      <th>pixel4</th>\n",
       "      <th>pixel5</th>\n",
       "      <th>pixel6</th>\n",
       "      <th>pixel7</th>\n",
       "      <th>pixel8</th>\n",
       "      <th>pixel9</th>\n",
       "      <th>pixel10</th>\n",
       "      <th>...</th>\n",
       "      <th>pixel775</th>\n",
       "      <th>pixel776</th>\n",
       "      <th>pixel777</th>\n",
       "      <th>pixel778</th>\n",
       "      <th>pixel779</th>\n",
       "      <th>pixel780</th>\n",
       "      <th>pixel781</th>\n",
       "      <th>pixel782</th>\n",
       "      <th>pixel783</th>\n",
       "      <th>pixel784</th>\n",
       "    </tr>\n",
       "  </thead>\n",
       "  <tbody>\n",
       "    <tr>\n",
       "      <th>0</th>\n",
       "      <td>107</td>\n",
       "      <td>118</td>\n",
       "      <td>127</td>\n",
       "      <td>134</td>\n",
       "      <td>139</td>\n",
       "      <td>143</td>\n",
       "      <td>146</td>\n",
       "      <td>150</td>\n",
       "      <td>153</td>\n",
       "      <td>156</td>\n",
       "      <td>...</td>\n",
       "      <td>207</td>\n",
       "      <td>207</td>\n",
       "      <td>207</td>\n",
       "      <td>207</td>\n",
       "      <td>206</td>\n",
       "      <td>206</td>\n",
       "      <td>206</td>\n",
       "      <td>204</td>\n",
       "      <td>203</td>\n",
       "      <td>202</td>\n",
       "    </tr>\n",
       "    <tr>\n",
       "      <th>1</th>\n",
       "      <td>155</td>\n",
       "      <td>157</td>\n",
       "      <td>156</td>\n",
       "      <td>156</td>\n",
       "      <td>156</td>\n",
       "      <td>157</td>\n",
       "      <td>156</td>\n",
       "      <td>158</td>\n",
       "      <td>158</td>\n",
       "      <td>157</td>\n",
       "      <td>...</td>\n",
       "      <td>69</td>\n",
       "      <td>149</td>\n",
       "      <td>128</td>\n",
       "      <td>87</td>\n",
       "      <td>94</td>\n",
       "      <td>163</td>\n",
       "      <td>175</td>\n",
       "      <td>103</td>\n",
       "      <td>135</td>\n",
       "      <td>149</td>\n",
       "    </tr>\n",
       "    <tr>\n",
       "      <th>2</th>\n",
       "      <td>187</td>\n",
       "      <td>188</td>\n",
       "      <td>188</td>\n",
       "      <td>187</td>\n",
       "      <td>187</td>\n",
       "      <td>186</td>\n",
       "      <td>187</td>\n",
       "      <td>188</td>\n",
       "      <td>187</td>\n",
       "      <td>186</td>\n",
       "      <td>...</td>\n",
       "      <td>202</td>\n",
       "      <td>201</td>\n",
       "      <td>200</td>\n",
       "      <td>199</td>\n",
       "      <td>198</td>\n",
       "      <td>199</td>\n",
       "      <td>198</td>\n",
       "      <td>195</td>\n",
       "      <td>194</td>\n",
       "      <td>195</td>\n",
       "    </tr>\n",
       "    <tr>\n",
       "      <th>3</th>\n",
       "      <td>211</td>\n",
       "      <td>211</td>\n",
       "      <td>212</td>\n",
       "      <td>212</td>\n",
       "      <td>211</td>\n",
       "      <td>210</td>\n",
       "      <td>211</td>\n",
       "      <td>210</td>\n",
       "      <td>210</td>\n",
       "      <td>211</td>\n",
       "      <td>...</td>\n",
       "      <td>235</td>\n",
       "      <td>234</td>\n",
       "      <td>233</td>\n",
       "      <td>231</td>\n",
       "      <td>230</td>\n",
       "      <td>226</td>\n",
       "      <td>225</td>\n",
       "      <td>222</td>\n",
       "      <td>229</td>\n",
       "      <td>163</td>\n",
       "    </tr>\n",
       "    <tr>\n",
       "      <th>4</th>\n",
       "      <td>164</td>\n",
       "      <td>167</td>\n",
       "      <td>170</td>\n",
       "      <td>172</td>\n",
       "      <td>176</td>\n",
       "      <td>179</td>\n",
       "      <td>180</td>\n",
       "      <td>184</td>\n",
       "      <td>185</td>\n",
       "      <td>186</td>\n",
       "      <td>...</td>\n",
       "      <td>92</td>\n",
       "      <td>105</td>\n",
       "      <td>105</td>\n",
       "      <td>108</td>\n",
       "      <td>133</td>\n",
       "      <td>163</td>\n",
       "      <td>157</td>\n",
       "      <td>163</td>\n",
       "      <td>164</td>\n",
       "      <td>179</td>\n",
       "    </tr>\n",
       "  </tbody>\n",
       "</table>\n",
       "<p>5 rows × 784 columns</p>\n",
       "</div>"
      ],
      "text/plain": [
       "   pixel1  pixel2  pixel3  pixel4  pixel5  pixel6  pixel7  pixel8  pixel9  \\\n",
       "0     107     118     127     134     139     143     146     150     153   \n",
       "1     155     157     156     156     156     157     156     158     158   \n",
       "2     187     188     188     187     187     186     187     188     187   \n",
       "3     211     211     212     212     211     210     211     210     210   \n",
       "4     164     167     170     172     176     179     180     184     185   \n",
       "\n",
       "   pixel10    ...     pixel775  pixel776  pixel777  pixel778  pixel779  \\\n",
       "0      156    ...          207       207       207       207       206   \n",
       "1      157    ...           69       149       128        87        94   \n",
       "2      186    ...          202       201       200       199       198   \n",
       "3      211    ...          235       234       233       231       230   \n",
       "4      186    ...           92       105       105       108       133   \n",
       "\n",
       "   pixel780  pixel781  pixel782  pixel783  pixel784  \n",
       "0       206       206       204       203       202  \n",
       "1       163       175       103       135       149  \n",
       "2       199       198       195       194       195  \n",
       "3       226       225       222       229       163  \n",
       "4       163       157       163       164       179  \n",
       "\n",
       "[5 rows x 784 columns]"
      ]
     },
     "execution_count": 16,
     "metadata": {},
     "output_type": "execute_result"
    }
   ],
   "source": [
    "hand_sign.head()"
   ]
  },
  {
   "cell_type": "code",
   "execution_count": 20,
   "metadata": {},
   "outputs": [
    {
     "name": "stdout",
     "output_type": "stream",
     "text": [
      "(27455, 784)\n",
      "(27455,)\n"
     ]
    }
   ],
   "source": [
    "#Printing shape of label and data\n",
    "print(hand_sign.shape)\n",
    "print(label.shape)"
   ]
  },
  {
   "cell_type": "markdown",
   "metadata": {},
   "source": [
    "## Viewing tha Data as Image"
   ]
  },
  {
   "cell_type": "code",
   "execution_count": 21,
   "metadata": {},
   "outputs": [],
   "source": [
    "#Transforming a data point into a 28*28 matrix \n",
    "image=np.empty(shape=(28,28),dtype=int)\n",
    "k=0\n",
    "j=0\n",
    "for i in range(0,28):\n",
    "    for k in range(0,28):\n",
    "        image[i,k]=hand_sign.iat[0,i*28+k]\n",
    "        "
   ]
  },
  {
   "cell_type": "code",
   "execution_count": 26,
   "metadata": {},
   "outputs": [
    {
     "data": {
      "image/png": "[encoded data removed]",
      "text/plain": [
       "<matplotlib.figure.Figure at 0x12a804712b0>"
      ]
     },
     "metadata": {},
     "output_type": "display_data"
    }
   ],
   "source": [
    "#Viewing the matrix as a image using imshow\n",
    "plt.imshow(image,cmap=cmap)\n",
    "plt.show()"
   ]
  },
  {
   "cell_type": "code",
   "execution_count": 28,
   "metadata": {},
   "outputs": [
    {
     "name": "stdout",
     "output_type": "stream",
     "text": [
      "Actual class label is : 3\n"
     ]
    }
   ],
   "source": [
    "print('Actual class label is :',label[0])"
   ]
  },
  {
   "cell_type": "code",
   "execution_count": 30,
   "metadata": {},
   "outputs": [
    {
     "data": {
      "image/png": "[encoded data removed]",
      "text/plain": [
       "<matplotlib.figure.Figure at 0x12a803f7198>"
      ]
     },
     "metadata": {},
     "output_type": "display_data"
    }
   ],
   "source": [
    "image2=np.empty(shape=(28,28),dtype=int)\n",
    "k=0\n",
    "j=0\n",
    "for i in range(0,28):\n",
    "    for k in range(0,28):\n",
    "        image[i,k]=hand_sign.iat[1,i*28+k]\n",
    "plt.imshow(image,cmap=cmap)\n",
    "plt.show()\n"
   ]
  },
  {
   "cell_type": "code",
   "execution_count": 31,
   "metadata": {},
   "outputs": [
    {
     "name": "stdout",
     "output_type": "stream",
     "text": [
      "Actual class label is : 6\n"
     ]
    }
   ],
   "source": [
    "print('Actual class label is :',label[1])"
   ]
  },
  {
   "cell_type": "markdown",
   "metadata": {},
   "source": [
    "## Train-Test Split\n",
    "Splitting the data into two parts i.e train which will be used for training and second part test which will be used for testing."
   ]
  },
  {
   "cell_type": "code",
   "execution_count": 33,
   "metadata": {},
   "outputs": [],
   "source": [
    "train_x , test_x , train_y , test_y = train_test_split(hand_sign , label , test_size = 0.3 , random_state =0)"
   ]
  },
  {
   "cell_type": "markdown",
   "metadata": {},
   "source": [
    "## Dimensionality Reduction"
   ]
  },
  {
   "cell_type": "markdown",
   "metadata": {},
   "source": [
    "Here our data has 784 dimensions so we can apply dimensionality reduction techniques to reduce the dimensions.Having too many dimensions can make training of model slow and may lead to inaccurate results"
   ]
  },
  {
   "cell_type": "markdown",
   "metadata": {},
   "source": [
    "### PCA(Principle Component Analysis)\n"
   ]
  },
  {
   "cell_type": "code",
   "execution_count": 34,
   "metadata": {},
   "outputs": [],
   "source": [
    "from sklearn import decomposition\n",
    "pca = decomposition.PCA()"
   ]
  },
  {
   "cell_type": "code",
   "execution_count": 36,
   "metadata": {},
   "outputs": [
    {
     "name": "stdout",
     "output_type": "stream",
     "text": [
      "Reduced PCA shape =  (27455, 2)\n"
     ]
    }
   ],
   "source": [
    "#Keep the resulting number of dimensions to 2\n",
    "pca.n_components = 2\n",
    "pca_data = pca.fit_transform(hand_sign)\n",
    "\n",
    "print(\"Reduced PCA shape = \", pca_data.shape)"
   ]
  },
  {
   "cell_type": "code",
   "execution_count": 54,
   "metadata": {},
   "outputs": [
    {
     "data": {
      "image/png": "[encoded data removed]",
      "text/plain": [
       "<matplotlib.figure.Figure at 0x12a81b1d630>"
      ]
     },
     "metadata": {},
     "output_type": "display_data"
    }
   ],
   "source": [
    "pca_dat = np.vstack((pca_data.T, label)).T\n",
    "pca_df = pd.DataFrame(data=pca_dat, columns=(\"1st_dimension\", \"2nd_dimension\", \"label\"))\n",
    "sns.lmplot('1st_dimension', '2nd_dimension', data=pca_df, hue='label', fit_reg=False)\n",
    "plt.show()"
   ]
  },
  {
   "cell_type": "markdown",
   "metadata": {},
   "source": [
    "### Comparing the original image with the image after apllying PCA"
   ]
  },
  {
   "cell_type": "code",
   "execution_count": 53,
   "metadata": {},
   "outputs": [
    {
     "data": {
      "image/png": "[encoded data removed]",
      "text/plain": [
       "<matplotlib.figure.Figure at 0x12a803e8198>"
      ]
     },
     "metadata": {},
     "output_type": "display_data"
    }
   ],
   "source": [
    "data=np.array(hand_sign)\n",
    "image= data[2]\n",
    "image.shape = (28,28)\n",
    "\n",
    "\n",
    "a = plt.subplot(1,2,1)\n",
    "a.set_title('Original Image')\n",
    "plt.imshow(image,cmap=plt.cm.gray)\n",
    "plt.axis(\"off\")\n",
    "\n",
    "image = pca.inverse_transform(pca_data[2])\n",
    "image.shape = (28,28)\n",
    "\n",
    "b = plt.subplot(1,2,2)\n",
    "b.set_title(\"Reduced after PCA\")\n",
    "plt.imshow(image,cmap=plt.cm.gray)\n",
    "plt.axis(\"off\")\n",
    "plt.show()"
   ]
  },
  {
   "cell_type": "markdown",
   "metadata": {},
   "source": [
    "## t-SNE (T-Distributed Stochastic Neighbouring Entities)"
   ]
  },
  {
   "cell_type": "markdown",
   "metadata": {},
   "source": [
    "t-Sne is a more advanced technique than PCA and it preserves the pattern of data too."
   ]
  },
  {
   "cell_type": "code",
   "execution_count": 56,
   "metadata": {},
   "outputs": [
    {
     "name": "stdout",
     "output_type": "stream",
     "text": [
      "(27455, 2)\n"
     ]
    }
   ],
   "source": [
    "from sklearn.manifold import TSNE\n",
    "tsne=TSNE(n_components=2).fit_transform(hand_sign)\n",
    "print(tsne.shape)"
   ]
  },
  {
   "cell_type": "code",
   "execution_count": 57,
   "metadata": {},
   "outputs": [
    {
     "data": {
      "image/png": "[encoded data removed]",
      "text/plain": [
       "<matplotlib.figure.Figure at 0x12a82ef7080>"
      ]
     },
     "metadata": {},
     "output_type": "display_data"
    }
   ],
   "source": [
    "tsne_data = np.vstack((tsne.T, label)).T\n",
    "tsne_df = pd.DataFrame(data=tsne_data, columns=(\"1st_dimension\", \"2nd_dimension\", \"label\"))\n",
    "sns.lmplot('1st_dimension', '2nd_dimension', data=tsne_df, hue='label', fit_reg=False)\n",
    "plt.show()"
   ]
  },
  {
   "cell_type": "markdown",
   "metadata": {},
   "source": [
    "#### We can easily see the diffrence between the plot of PCA and that of t-Sne .In t-Sne the labels can be easily distinguished from each other while in PCA many of the labels are just grouped together"
   ]
  },
  {
   "cell_type": "markdown",
   "metadata": {},
   "source": [
    "## Data Modelling"
   ]
  },
  {
   "cell_type": "markdown",
   "metadata": {},
   "source": [
    "### 1-Logistic Regression"
   ]
  },
  {
   "cell_type": "code",
   "execution_count": 69,
   "metadata": {},
   "outputs": [
    {
     "name": "stdout",
     "output_type": "stream",
     "text": [
      "Time taken for training Logistic Regression model is : 0:05:56.510900\n"
     ]
    }
   ],
   "source": [
    "from sklearn.linear_model import LogisticRegression\n",
    "log_regression = LogisticRegression()\n",
    "start_time=datetime.datetime.now()\n",
    "log_regression.fit(train_x , train_y)\n",
    "end_time=datetime.datetime.now()\n",
    "lr_learning_time=end_time-start_time\n",
    "print(\"Time taken for training Logistic Regression model is :\",str(lr_learning_time))"
   ]
  },
  {
   "cell_type": "code",
   "execution_count": 72,
   "metadata": {},
   "outputs": [
    {
     "name": "stdout",
     "output_type": "stream",
     "text": [
      "Time taken for prediction by Logistic Regression model is : 0:00:00.061662\n"
     ]
    }
   ],
   "source": [
    "start_time=datetime.datetime.now()\n",
    "pred_y=log_regression.predict(test_x)\n",
    "end_time=datetime.datetime.now()\n",
    "lr_prediction_time=end_time-start_time\n",
    "print(\"Time taken for prediction by Logistic Regression model is :\",str(lr_prediction_time))"
   ]
  },
  {
   "cell_type": "code",
   "execution_count": 73,
   "metadata": {},
   "outputs": [
    {
     "name": "stdout",
     "output_type": "stream",
     "text": [
      "1.0\n"
     ]
    }
   ],
   "source": [
    "print(log_regression.score(test_x, test_y))"
   ]
  },
  {
   "cell_type": "code",
   "execution_count": 76,
   "metadata": {},
   "outputs": [
    {
     "data": {
      "image/png": "[encoded data removed]",
      "text/plain": [
       "<matplotlib.figure.Figure at 0x12a81a05898>"
      ]
     },
     "metadata": {},
     "output_type": "display_data"
    }
   ],
   "source": [
    "#Making the confusion Matrix\n",
    "\n",
    "from sklearn.metrics import confusion_matrix\n",
    "cf= confusion_matrix(test_y, pred_y)\n",
    "\n",
    "# Visualizing the Confusion Matrix`\n",
    "\n",
    "plt.matshow(cf , cmap = plt.cm.gray, )\n",
    "plt.show()"
   ]
  },
  {
   "cell_type": "markdown",
   "metadata": {},
   "source": [
    "### The whiteness across the diagonal shows the high values that Most of the class were predicted correctly."
   ]
  },
  {
   "cell_type": "code",
   "execution_count": 77,
   "metadata": {},
   "outputs": [
    {
     "name": "stdout",
     "output_type": "stream",
     "text": [
      "             precision    recall  f1-score   support\n",
      "\n",
      "          0       1.00      1.00      1.00       340\n",
      "          1       1.00      1.00      1.00       304\n",
      "          2       1.00      1.00      1.00       337\n",
      "          3       1.00      1.00      1.00       385\n",
      "          4       1.00      1.00      1.00       295\n",
      "          5       1.00      1.00      1.00       357\n",
      "          6       1.00      1.00      1.00       331\n",
      "          7       1.00      1.00      1.00       304\n",
      "          8       1.00      1.00      1.00       327\n",
      "         10       1.00      1.00      1.00       306\n",
      "         11       1.00      1.00      1.00       358\n",
      "         12       1.00      1.00      1.00       317\n",
      "         13       1.00      1.00      1.00       366\n",
      "         14       1.00      1.00      1.00       357\n",
      "         15       1.00      1.00      1.00       339\n",
      "         16       1.00      1.00      1.00       365\n",
      "         17       1.00      1.00      1.00       414\n",
      "         18       1.00      1.00      1.00       370\n",
      "         19       1.00      1.00      1.00       346\n",
      "         20       1.00      1.00      1.00       342\n",
      "         21       1.00      1.00      1.00       349\n",
      "         22       1.00      1.00      1.00       340\n",
      "         23       1.00      1.00      1.00       348\n",
      "         24       1.00      1.00      1.00       340\n",
      "\n",
      "avg / total       1.00      1.00      1.00      8237\n",
      "\n"
     ]
    }
   ],
   "source": [
    "#Printing the classification report\n",
    "import sklearn.metrics as skm\n",
    "print(skm.classification_report( test_y , pred_y ))"
   ]
  },
  {
   "cell_type": "markdown",
   "metadata": {},
   "source": [
    "## 2- Decision Tree"
   ]
  },
  {
   "cell_type": "code",
   "execution_count": 87,
   "metadata": {},
   "outputs": [
    {
     "name": "stdout",
     "output_type": "stream",
     "text": [
      "Time taken for training Decision Tree model is : 0:00:13.525922\n"
     ]
    }
   ],
   "source": [
    "from sklearn.tree import DecisionTreeClassifier\n",
    "tree=DecisionTreeClassifier(criterion='gini')\n",
    "start_time=datetime.datetime.now()\n",
    "tree.fit(train_x , train_y)\n",
    "end_time=datetime.datetime.now()\n",
    "tree_learning_time=end_time-start_time\n",
    "print(\"Time taken for training Decision Tree model is :\",str(tree_learning_time))"
   ]
  },
  {
   "cell_type": "code",
   "execution_count": 88,
   "metadata": {},
   "outputs": [
    {
     "name": "stdout",
     "output_type": "stream",
     "text": [
      "Time taken for prediction by Decision Tree model is : 0:00:00.032085\n"
     ]
    }
   ],
   "source": [
    "start_time=datetime.datetime.now()\n",
    "pred_y=tree.predict(test_x)\n",
    "end_time=datetime.datetime.now()\n",
    "tree_prediction_time=end_time-start_time\n",
    "print(\"Time taken for prediction by Decision Tree model is :\",str(tree_prediction_time))"
   ]
  },
  {
   "cell_type": "code",
   "execution_count": 89,
   "metadata": {},
   "outputs": [
    {
     "name": "stdout",
     "output_type": "stream",
     "text": [
      "0.8651207964064587\n"
     ]
    }
   ],
   "source": [
    "print(tree.score(test_x, test_y))"
   ]
  },
  {
   "cell_type": "code",
   "execution_count": 90,
   "metadata": {},
   "outputs": [
    {
     "data": {
      "image/png": "[encoded data removed]",
      "text/plain": [
       "<matplotlib.figure.Figure at 0x12a832c16d8>"
      ]
     },
     "metadata": {},
     "output_type": "display_data"
    }
   ],
   "source": [
    "from sklearn.metrics import confusion_matrix\n",
    "cf= confusion_matrix(test_y, pred_y)\n",
    "\n",
    "# Visualizing the Confusion Matrix`\n",
    "\n",
    "plt.matshow(cf , cmap = plt.cm.gray, )\n",
    "plt.show()"
   ]
  },
  {
   "cell_type": "code",
   "execution_count": 91,
   "metadata": {},
   "outputs": [
    {
     "name": "stdout",
     "output_type": "stream",
     "text": [
      "             precision    recall  f1-score   support\n",
      "\n",
      "          0       0.91      0.90      0.90       340\n",
      "          1       0.88      0.90      0.89       304\n",
      "          2       0.94      0.91      0.93       337\n",
      "          3       0.85      0.88      0.86       385\n",
      "          4       0.88      0.88      0.88       295\n",
      "          5       0.84      0.84      0.84       357\n",
      "          6       0.87      0.88      0.87       331\n",
      "          7       0.83      0.83      0.83       304\n",
      "          8       0.84      0.86      0.85       327\n",
      "         10       0.84      0.86      0.85       306\n",
      "         11       0.88      0.85      0.87       358\n",
      "         12       0.83      0.88      0.85       317\n",
      "         13       0.83      0.88      0.85       366\n",
      "         14       0.90      0.90      0.90       357\n",
      "         15       0.94      0.91      0.93       339\n",
      "         16       0.93      0.93      0.93       365\n",
      "         17       0.84      0.79      0.82       414\n",
      "         18       0.83      0.84      0.83       370\n",
      "         19       0.87      0.86      0.87       346\n",
      "         20       0.84      0.82      0.83       342\n",
      "         21       0.86      0.81      0.83       349\n",
      "         22       0.82      0.87      0.84       340\n",
      "         23       0.87      0.90      0.89       348\n",
      "         24       0.86      0.81      0.84       340\n",
      "\n",
      "avg / total       0.87      0.87      0.87      8237\n",
      "\n"
     ]
    }
   ],
   "source": [
    "#Printing the classification report\n",
    "import sklearn.metrics as skm\n",
    "print(skm.classification_report( test_y , pred_y ))"
   ]
  },
  {
   "cell_type": "markdown",
   "metadata": {},
   "source": [
    "##  3- Random Forest"
   ]
  },
  {
   "cell_type": "code",
   "execution_count": 92,
   "metadata": {},
   "outputs": [],
   "source": [
    "from sklearn.ensemble import RandomForestClassifier\n",
    "random_forest=RandomForestClassifier(n_jobs=2,random_state=0,criterion='gini')"
   ]
  },
  {
   "cell_type": "code",
   "execution_count": 93,
   "metadata": {},
   "outputs": [
    {
     "name": "stdout",
     "output_type": "stream",
     "text": [
      "Time taken for training Random Forest model is : 0:00:02.179826\n"
     ]
    }
   ],
   "source": [
    "start_time=datetime.datetime.now()\n",
    "random_forest.fit(train_x , train_y)\n",
    "end_time=datetime.datetime.now()\n",
    "rf_learning_time=end_time-start_time\n",
    "print(\"Time taken for training Random Forest model is :\",str(rf_learning_time))"
   ]
  },
  {
   "cell_type": "code",
   "execution_count": 98,
   "metadata": {},
   "outputs": [
    {
     "name": "stdout",
     "output_type": "stream",
     "text": [
      "Time taken for prediction by Decision Tree model is : 0:00:00.140808\n"
     ]
    }
   ],
   "source": [
    "start_time=datetime.datetime.now()\n",
    "pred_y=random_forest.predict(test_x)\n",
    "end_time=datetime.datetime.now()\n",
    "rf_prediction_time=end_time-start_time\n",
    "print(\"Time taken for prediction by Decision Tree model is :\",str(rf_prediction_time))"
   ]
  },
  {
   "cell_type": "code",
   "execution_count": 99,
   "metadata": {
    "scrolled": true
   },
   "outputs": [
    {
     "name": "stdout",
     "output_type": "stream",
     "text": [
      "0.9763263324025737\n"
     ]
    }
   ],
   "source": [
    "print(random_forest.score(test_x, test_y))"
   ]
  },
  {
   "cell_type": "code",
   "execution_count": 100,
   "metadata": {},
   "outputs": [
    {
     "data": {
      "image/png": "[encoded data removed]",
      "text/plain": [
       "<matplotlib.figure.Figure at 0x12a82e6d2e8>"
      ]
     },
     "metadata": {},
     "output_type": "display_data"
    }
   ],
   "source": [
    "cf= confusion_matrix(test_y, pred_y)\n",
    "\n",
    "# Visualizing the Confusion Matrix`\n",
    "\n",
    "plt.matshow(cf , cmap = plt.cm.gray, )\n",
    "plt.show()"
   ]
  },
  {
   "cell_type": "code",
   "execution_count": 101,
   "metadata": {},
   "outputs": [
    {
     "name": "stdout",
     "output_type": "stream",
     "text": [
      "             precision    recall  f1-score   support\n",
      "\n",
      "          0       0.97      0.99      0.98       340\n",
      "          1       0.96      0.99      0.98       304\n",
      "          2       0.99      1.00      0.99       337\n",
      "          3       0.97      0.98      0.98       385\n",
      "          4       0.98      0.98      0.98       295\n",
      "          5       0.99      0.97      0.98       357\n",
      "          6       0.98      0.98      0.98       331\n",
      "          7       0.96      0.98      0.97       304\n",
      "          8       0.96      0.97      0.97       327\n",
      "         10       0.96      0.99      0.98       306\n",
      "         11       0.96      0.98      0.97       358\n",
      "         12       0.98      0.97      0.98       317\n",
      "         13       0.98      0.96      0.97       366\n",
      "         14       0.99      0.99      0.99       357\n",
      "         15       0.98      0.98      0.98       339\n",
      "         16       0.99      1.00      1.00       365\n",
      "         17       0.96      0.98      0.97       414\n",
      "         18       0.98      0.95      0.97       370\n",
      "         19       0.97      0.97      0.97       346\n",
      "         20       0.98      0.96      0.97       342\n",
      "         21       0.97      0.95      0.96       349\n",
      "         22       0.98      0.98      0.98       340\n",
      "         23       0.99      0.98      0.99       348\n",
      "         24       0.99      0.95      0.97       340\n",
      "\n",
      "avg / total       0.98      0.98      0.98      8237\n",
      "\n"
     ]
    }
   ],
   "source": [
    "#Printing the classification report\n",
    "import sklearn.metrics as skm\n",
    "print(skm.classification_report( test_y , pred_y ))"
   ]
  },
  {
   "cell_type": "markdown",
   "metadata": {},
   "source": [
    "## 4-Support Vector Machine(Polynomial Kernel)"
   ]
  },
  {
   "cell_type": "code",
   "execution_count": 117,
   "metadata": {},
   "outputs": [],
   "source": [
    "from sklearn.svm import SVC\n",
    "svc_poly=SVC(kernel='poly',degree=6)"
   ]
  },
  {
   "cell_type": "code",
   "execution_count": 118,
   "metadata": {},
   "outputs": [
    {
     "name": "stdout",
     "output_type": "stream",
     "text": [
      "Time taken for training SVM model is : 0:00:39.374266\n"
     ]
    }
   ],
   "source": [
    "start_time=datetime.datetime.now()\n",
    "svc_poly.fit(train_x , train_y)\n",
    "end_time=datetime.datetime.now()\n",
    "svm_learning_time=end_time-start_time\n",
    "print(\"Time taken for training SVM model is :\",str(svm_learning_time))"
   ]
  },
  {
   "cell_type": "code",
   "execution_count": 128,
   "metadata": {},
   "outputs": [
    {
     "name": "stdout",
     "output_type": "stream",
     "text": [
      "Time taken for prediction by SVM model is : 0:00:14.847183\n"
     ]
    }
   ],
   "source": [
    "start_time=datetime.datetime.now()\n",
    "pred_y=svc_poly.predict(test_x)\n",
    "end_time=datetime.datetime.now()\n",
    "svm_prediction_time=end_time-start_time\n",
    "print(\"Time taken for prediction by SVM model is :\",str(svm_prediction_time))"
   ]
  },
  {
   "cell_type": "code",
   "execution_count": 121,
   "metadata": {},
   "outputs": [
    {
     "name": "stdout",
     "output_type": "stream",
     "text": [
      "0.9980575452227752\n"
     ]
    }
   ],
   "source": [
    "print(svc_poly.score(test_x, test_y))"
   ]
  },
  {
   "cell_type": "code",
   "execution_count": 122,
   "metadata": {},
   "outputs": [
    {
     "data": {
      "image/png": "[encoded data removed]",
      "text/plain": [
       "<matplotlib.figure.Figure at 0x12a80729710>"
      ]
     },
     "metadata": {},
     "output_type": "display_data"
    }
   ],
   "source": [
    "cf= confusion_matrix(test_y, pred_y)\n",
    "\n",
    "# Visualizing the Confusion Matrix`\n",
    "\n",
    "plt.matshow(cf , cmap = plt.cm.gray, )\n",
    "plt.show()"
   ]
  },
  {
   "cell_type": "code",
   "execution_count": 123,
   "metadata": {},
   "outputs": [
    {
     "name": "stdout",
     "output_type": "stream",
     "text": [
      "             precision    recall  f1-score   support\n",
      "\n",
      "          0       1.00      0.99      0.99       340\n",
      "          1       0.99      1.00      1.00       304\n",
      "          2       1.00      1.00      1.00       337\n",
      "          3       1.00      1.00      1.00       385\n",
      "          4       1.00      1.00      1.00       295\n",
      "          5       1.00      0.99      1.00       357\n",
      "          6       1.00      1.00      1.00       331\n",
      "          7       0.99      1.00      1.00       304\n",
      "          8       1.00      1.00      1.00       327\n",
      "         10       1.00      1.00      1.00       306\n",
      "         11       1.00      1.00      1.00       358\n",
      "         12       1.00      1.00      1.00       317\n",
      "         13       0.99      0.99      0.99       366\n",
      "         14       1.00      1.00      1.00       357\n",
      "         15       1.00      1.00      1.00       339\n",
      "         16       0.99      0.99      0.99       365\n",
      "         17       1.00      1.00      1.00       414\n",
      "         18       1.00      0.99      1.00       370\n",
      "         19       1.00      1.00      1.00       346\n",
      "         20       1.00      1.00      1.00       342\n",
      "         21       1.00      1.00      1.00       349\n",
      "         22       1.00      1.00      1.00       340\n",
      "         23       1.00      0.99      1.00       348\n",
      "         24       1.00      1.00      1.00       340\n",
      "\n",
      "avg / total       1.00      1.00      1.00      8237\n",
      "\n"
     ]
    }
   ],
   "source": [
    "import sklearn.metrics as skm\n",
    "print(skm.classification_report( test_y , pred_y ))"
   ]
  },
  {
   "cell_type": "markdown",
   "metadata": {},
   "source": [
    "## KNeighborsClassifier"
   ]
  },
  {
   "cell_type": "code",
   "execution_count": 124,
   "metadata": {},
   "outputs": [],
   "source": [
    "from sklearn.neighbors import KNeighborsClassifier\n",
    "KNN=KNeighborsClassifier(n_neighbors=3)"
   ]
  },
  {
   "cell_type": "code",
   "execution_count": 125,
   "metadata": {},
   "outputs": [
    {
     "name": "stdout",
     "output_type": "stream",
     "text": [
      "Time taken for training KNN model is : 0:00:01.149023\n"
     ]
    }
   ],
   "source": [
    "start_time=datetime.datetime.now()\n",
    "KNN.fit(train_x , train_y)\n",
    "end_time=datetime.datetime.now()\n",
    "knn_learning_time=end_time-start_time\n",
    "print(\"Time taken for training KNN model is :\",str(knn_learning_time))"
   ]
  },
  {
   "cell_type": "code",
   "execution_count": 127,
   "metadata": {},
   "outputs": [
    {
     "name": "stdout",
     "output_type": "stream",
     "text": [
      "Time taken for prediction by KNN model is : 0:01:52.743957\n"
     ]
    }
   ],
   "source": [
    "start_time=datetime.datetime.now()\n",
    "pred_y=KNN.predict(test_x)\n",
    "end_time=datetime.datetime.now()\n",
    "knn_prediction_time=end_time-start_time\n",
    "print(\"Time taken for prediction by KNN model is :\",str(knn_prediction_time))"
   ]
  },
  {
   "cell_type": "code",
   "execution_count": 130,
   "metadata": {},
   "outputs": [
    {
     "name": "stdout",
     "output_type": "stream",
     "text": [
      "0.9969649144105864\n"
     ]
    }
   ],
   "source": [
    "print(KNN.score(test_x, test_y))"
   ]
  },
  {
   "cell_type": "code",
   "execution_count": 131,
   "metadata": {},
   "outputs": [
    {
     "data": {
      "image/png": "[encoded data removed]",
      "text/plain": [
       "<matplotlib.figure.Figure at 0x12a807052b0>"
      ]
     },
     "metadata": {},
     "output_type": "display_data"
    }
   ],
   "source": [
    "cf= confusion_matrix(test_y, pred_y)\n",
    "\n",
    "# Visualizing the Confusion Matrix`\n",
    "\n",
    "plt.matshow(cf , cmap = plt.cm.gray, )\n",
    "plt.show()"
   ]
  },
  {
   "cell_type": "code",
   "execution_count": 132,
   "metadata": {},
   "outputs": [
    {
     "name": "stdout",
     "output_type": "stream",
     "text": [
      "             precision    recall  f1-score   support\n",
      "\n",
      "          0       1.00      0.99      0.99       340\n",
      "          1       0.99      1.00      1.00       304\n",
      "          2       1.00      1.00      1.00       337\n",
      "          3       1.00      1.00      1.00       385\n",
      "          4       1.00      1.00      1.00       295\n",
      "          5       1.00      0.99      1.00       357\n",
      "          6       1.00      1.00      1.00       331\n",
      "          7       0.99      1.00      1.00       304\n",
      "          8       1.00      1.00      1.00       327\n",
      "         10       1.00      1.00      1.00       306\n",
      "         11       1.00      1.00      1.00       358\n",
      "         12       1.00      1.00      1.00       317\n",
      "         13       0.99      0.99      0.99       366\n",
      "         14       1.00      1.00      1.00       357\n",
      "         15       1.00      1.00      1.00       339\n",
      "         16       0.99      0.99      0.99       365\n",
      "         17       1.00      1.00      1.00       414\n",
      "         18       1.00      0.99      1.00       370\n",
      "         19       1.00      1.00      1.00       346\n",
      "         20       1.00      1.00      1.00       342\n",
      "         21       1.00      1.00      1.00       349\n",
      "         22       1.00      1.00      1.00       340\n",
      "         23       1.00      0.99      1.00       348\n",
      "         24       1.00      1.00      1.00       340\n",
      "\n",
      "avg / total       1.00      1.00      1.00      8237\n",
      "\n"
     ]
    }
   ],
   "source": [
    "import sklearn.metrics as skm\n",
    "print(skm.classification_report( test_y , pred_y ))"
   ]
  },
  {
   "cell_type": "markdown",
   "metadata": {},
   "source": [
    "## Comparison of All Algorithms"
   ]
  },
  {
   "cell_type": "markdown",
   "metadata": {},
   "source": [
    "### We are using diffrent criterias for evaluating the algorithms applied:\n",
    "* Accuracy\n",
    "* Training time\n",
    "* Prediction time"
   ]
  },
  {
   "cell_type": "code",
   "execution_count": 138,
   "metadata": {},
   "outputs": [],
   "source": [
    "Accuracy=[1.0,0.8651207964064587,0.9763263324025737,0.9980575452227752,0.9969649144105864]\n",
    "Train_time=[356.510,13.525,2.179,39.374,1.149]\n",
    "Prediction_time=[0.06166,0.03208,0.14080,14.847,1.1490]"
   ]
  },
  {
   "cell_type": "code",
   "execution_count": 140,
   "metadata": {},
   "outputs": [],
   "source": [
    "data = { 'Accuracy' : Accuracy,\n",
    "         'Train_Time': Train_time,\n",
    "         'Prediction': Prediction_time,\n",
    "         'Algorithm': ['Logistic Regression','Decision Tree','Random Forest','SVM polynomial','KNeighbors']}\n",
    "df = pd.DataFrame( data)"
   ]
  },
  {
   "cell_type": "markdown",
   "metadata": {},
   "source": [
    "### Comparison based on accuracy"
   ]
  },
  {
   "cell_type": "code",
   "execution_count": 141,
   "metadata": {},
   "outputs": [
    {
     "data": {
      "text/plain": [
       "<matplotlib.axes._subplots.AxesSubplot at 0x12a81751e80>"
      ]
     },
     "execution_count": 141,
     "metadata": {},
     "output_type": "execute_result"
    },
    {
     "data": {
      "image/png": "[encoded data removed]",
      "text/plain": [
       "<matplotlib.figure.Figure at 0x12a80729b00>"
      ]
     },
     "metadata": {},
     "output_type": "display_data"
    }
   ],
   "source": [
    "sns.barplot(x = df.Accuracy, y = df.Algorithm)"
   ]
  },
  {
   "cell_type": "markdown",
   "metadata": {},
   "source": [
    "### Comparison based on Training Time"
   ]
  },
  {
   "cell_type": "code",
   "execution_count": 144,
   "metadata": {},
   "outputs": [
    {
     "data": {
      "text/plain": [
       "<matplotlib.axes._subplots.AxesSubplot at 0x12a817a3438>"
      ]
     },
     "execution_count": 144,
     "metadata": {},
     "output_type": "execute_result"
    },
    {
     "data": {
      "image/png": "[encoded data removed]",
      "text/plain": [
       "<matplotlib.figure.Figure at 0x12a81751f98>"
      ]
     },
     "metadata": {},
     "output_type": "display_data"
    }
   ],
   "source": [
    "sns.barplot(x = df.Train_Time, y = df.Algorithm)"
   ]
  },
  {
   "cell_type": "markdown",
   "metadata": {},
   "source": [
    "### Comparison based on prediction time"
   ]
  },
  {
   "cell_type": "code",
   "execution_count": 146,
   "metadata": {},
   "outputs": [
    {
     "data": {
      "text/plain": [
       "<matplotlib.axes._subplots.AxesSubplot at 0x12a81b55b70>"
      ]
     },
     "execution_count": 146,
     "metadata": {},
     "output_type": "execute_result"
    },
    {
     "data": {
      "image/png": "[encoded data removed]",
      "text/plain": [
       "<matplotlib.figure.Figure at 0x12a81b880b8>"
      ]
     },
     "metadata": {},
     "output_type": "display_data"
    }
   ],
   "source": [
    "sns.barplot(x = df.Prediction, y = df.Algorithm)"
   ]
  },
  {
   "cell_type": "code",
   "execution_count": null,
   "metadata": {},
   "outputs": [],
   "source": []
  }
 ],
 "metadata": {
  "kernelspec": {
   "display_name": "Python 3",
   "language": "python",
   "name": "python3"
  },
  "language_info": {
   "codemirror_mode": {
    "name": "ipython",
    "version": 3
   },
   "file_extension": ".py",
   "mimetype": "text/x-python",
   "name": "python",
   "nbconvert_exporter": "python",
   "pygments_lexer": "ipython3",
   "version": "3.6.4rc1"
  }
 },
 "nbformat": 4,
 "nbformat_minor": 2
}
