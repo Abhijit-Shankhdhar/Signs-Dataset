{
 "cells": [
  {
   "cell_type": "code",
   "execution_count": 1,
   "metadata": {},
   "outputs": [],
   "source": [
    "import pandas as pd\n",
    "import numpy as np\n",
    "import seaborn as sns\n",
    "import matplotlib.pyplot as plt"
   ]
  },
  {
   "cell_type": "code",
   "execution_count": 2,
   "metadata": {},
   "outputs": [],
   "source": [
    "df=pd.read_csv('sign_mnist_train.csv')"
   ]
  },
  {
   "cell_type": "code",
   "execution_count": 3,
   "metadata": {},
   "outputs": [
    {
     "data": {
      "text/plain": [
       "(27455, 785)"
      ]
     },
     "execution_count": 3,
     "metadata": {},
     "output_type": "execute_result"
    }
   ],
   "source": [
    "df.shape"
   ]
  },
  {
   "cell_type": "code",
   "execution_count": 4,
   "metadata": {},
   "outputs": [
    {
     "data": {
      "text/html": [
       "<div>\n",
       "<style scoped>\n",
       "    .dataframe tbody tr th:only-of-type {\n",
       "        vertical-align: middle;\n",
       "    }\n",
       "\n",
       "    .dataframe tbody tr th {\n",
       "        vertical-align: top;\n",
       "    }\n",
       "\n",
       "    .dataframe thead th {\n",
       "        text-align: right;\n",
       "    }\n",
       "</style>\n",
       "<table border=\"1\" class=\"dataframe\">\n",
       "  <thead>\n",
       "    <tr style=\"text-align: right;\">\n",
       "      <th></th>\n",
       "      <th>label</th>\n",
       "      <th>pixel1</th>\n",
       "      <th>pixel2</th>\n",
       "      <th>pixel3</th>\n",
       "      <th>pixel4</th>\n",
       "      <th>pixel5</th>\n",
       "      <th>pixel6</th>\n",
       "      <th>pixel7</th>\n",
       "      <th>pixel8</th>\n",
       "      <th>pixel9</th>\n",
       "      <th>...</th>\n",
       "      <th>pixel775</th>\n",
       "      <th>pixel776</th>\n",
       "      <th>pixel777</th>\n",
       "      <th>pixel778</th>\n",
       "      <th>pixel779</th>\n",
       "      <th>pixel780</th>\n",
       "      <th>pixel781</th>\n",
       "      <th>pixel782</th>\n",
       "      <th>pixel783</th>\n",
       "      <th>pixel784</th>\n",
       "    </tr>\n",
       "  </thead>\n",
       "  <tbody>\n",
       "    <tr>\n",
       "      <th>0</th>\n",
       "      <td>3</td>\n",
       "      <td>107</td>\n",
       "      <td>118</td>\n",
       "      <td>127</td>\n",
       "      <td>134</td>\n",
       "      <td>139</td>\n",
       "      <td>143</td>\n",
       "      <td>146</td>\n",
       "      <td>150</td>\n",
       "      <td>153</td>\n",
       "      <td>...</td>\n",
       "      <td>207</td>\n",
       "      <td>207</td>\n",
       "      <td>207</td>\n",
       "      <td>207</td>\n",
       "      <td>206</td>\n",
       "      <td>206</td>\n",
       "      <td>206</td>\n",
       "      <td>204</td>\n",
       "      <td>203</td>\n",
       "      <td>202</td>\n",
       "    </tr>\n",
       "    <tr>\n",
       "      <th>1</th>\n",
       "      <td>6</td>\n",
       "      <td>155</td>\n",
       "      <td>157</td>\n",
       "      <td>156</td>\n",
       "      <td>156</td>\n",
       "      <td>156</td>\n",
       "      <td>157</td>\n",
       "      <td>156</td>\n",
       "      <td>158</td>\n",
       "      <td>158</td>\n",
       "      <td>...</td>\n",
       "      <td>69</td>\n",
       "      <td>149</td>\n",
       "      <td>128</td>\n",
       "      <td>87</td>\n",
       "      <td>94</td>\n",
       "      <td>163</td>\n",
       "      <td>175</td>\n",
       "      <td>103</td>\n",
       "      <td>135</td>\n",
       "      <td>149</td>\n",
       "    </tr>\n",
       "    <tr>\n",
       "      <th>2</th>\n",
       "      <td>2</td>\n",
       "      <td>187</td>\n",
       "      <td>188</td>\n",
       "      <td>188</td>\n",
       "      <td>187</td>\n",
       "      <td>187</td>\n",
       "      <td>186</td>\n",
       "      <td>187</td>\n",
       "      <td>188</td>\n",
       "      <td>187</td>\n",
       "      <td>...</td>\n",
       "      <td>202</td>\n",
       "      <td>201</td>\n",
       "      <td>200</td>\n",
       "      <td>199</td>\n",
       "      <td>198</td>\n",
       "      <td>199</td>\n",
       "      <td>198</td>\n",
       "      <td>195</td>\n",
       "      <td>194</td>\n",
       "      <td>195</td>\n",
       "    </tr>\n",
       "    <tr>\n",
       "      <th>3</th>\n",
       "      <td>2</td>\n",
       "      <td>211</td>\n",
       "      <td>211</td>\n",
       "      <td>212</td>\n",
       "      <td>212</td>\n",
       "      <td>211</td>\n",
       "      <td>210</td>\n",
       "      <td>211</td>\n",
       "      <td>210</td>\n",
       "      <td>210</td>\n",
       "      <td>...</td>\n",
       "      <td>235</td>\n",
       "      <td>234</td>\n",
       "      <td>233</td>\n",
       "      <td>231</td>\n",
       "      <td>230</td>\n",
       "      <td>226</td>\n",
       "      <td>225</td>\n",
       "      <td>222</td>\n",
       "      <td>229</td>\n",
       "      <td>163</td>\n",
       "    </tr>\n",
       "    <tr>\n",
       "      <th>4</th>\n",
       "      <td>13</td>\n",
       "      <td>164</td>\n",
       "      <td>167</td>\n",
       "      <td>170</td>\n",
       "      <td>172</td>\n",
       "      <td>176</td>\n",
       "      <td>179</td>\n",
       "      <td>180</td>\n",
       "      <td>184</td>\n",
       "      <td>185</td>\n",
       "      <td>...</td>\n",
       "      <td>92</td>\n",
       "      <td>105</td>\n",
       "      <td>105</td>\n",
       "      <td>108</td>\n",
       "      <td>133</td>\n",
       "      <td>163</td>\n",
       "      <td>157</td>\n",
       "      <td>163</td>\n",
       "      <td>164</td>\n",
       "      <td>179</td>\n",
       "    </tr>\n",
       "  </tbody>\n",
       "</table>\n",
       "<p>5 rows × 785 columns</p>\n",
       "</div>"
      ],
      "text/plain": [
       "   label  pixel1  pixel2  pixel3  pixel4  pixel5  pixel6  pixel7  pixel8  \\\n",
       "0      3     107     118     127     134     139     143     146     150   \n",
       "1      6     155     157     156     156     156     157     156     158   \n",
       "2      2     187     188     188     187     187     186     187     188   \n",
       "3      2     211     211     212     212     211     210     211     210   \n",
       "4     13     164     167     170     172     176     179     180     184   \n",
       "\n",
       "   pixel9    ...     pixel775  pixel776  pixel777  pixel778  pixel779  \\\n",
       "0     153    ...          207       207       207       207       206   \n",
       "1     158    ...           69       149       128        87        94   \n",
       "2     187    ...          202       201       200       199       198   \n",
       "3     210    ...          235       234       233       231       230   \n",
       "4     185    ...           92       105       105       108       133   \n",
       "\n",
       "   pixel780  pixel781  pixel782  pixel783  pixel784  \n",
       "0       206       206       204       203       202  \n",
       "1       163       175       103       135       149  \n",
       "2       199       198       195       194       195  \n",
       "3       226       225       222       229       163  \n",
       "4       163       157       163       164       179  \n",
       "\n",
       "[5 rows x 785 columns]"
      ]
     },
     "execution_count": 4,
     "metadata": {},
     "output_type": "execute_result"
    }
   ],
   "source": [
    "df.head()"
   ]
  },
  {
   "cell_type": "code",
   "execution_count": 5,
   "metadata": {},
   "outputs": [],
   "source": [
    "y=df['label']"
   ]
  },
  {
   "cell_type": "code",
   "execution_count": 6,
   "metadata": {},
   "outputs": [
    {
     "data": {
      "text/plain": [
       "0         3\n",
       "1         6\n",
       "2         2\n",
       "3         2\n",
       "4        13\n",
       "5        16\n",
       "6         8\n",
       "7        22\n",
       "8         3\n",
       "9         3\n",
       "10       18\n",
       "11       10\n",
       "12       16\n",
       "13       22\n",
       "14       20\n",
       "15       16\n",
       "16       17\n",
       "17       13\n",
       "18       13\n",
       "19       19\n",
       "20       18\n",
       "21       21\n",
       "22       16\n",
       "23       23\n",
       "24        3\n",
       "25       23\n",
       "26       24\n",
       "27       18\n",
       "28       22\n",
       "29        1\n",
       "         ..\n",
       "27425    21\n",
       "27426    21\n",
       "27427     4\n",
       "27428    17\n",
       "27429     5\n",
       "27430    12\n",
       "27431    19\n",
       "27432     2\n",
       "27433    22\n",
       "27434    12\n",
       "27435     1\n",
       "27436    19\n",
       "27437    16\n",
       "27438    21\n",
       "27439    11\n",
       "27440     5\n",
       "27441    18\n",
       "27442     0\n",
       "27443    21\n",
       "27444    18\n",
       "27445    14\n",
       "27446    19\n",
       "27447    11\n",
       "27448    12\n",
       "27449    20\n",
       "27450    13\n",
       "27451    23\n",
       "27452    18\n",
       "27453    17\n",
       "27454    23\n",
       "Name: label, Length: 27455, dtype: int64"
      ]
     },
     "execution_count": 6,
     "metadata": {},
     "output_type": "execute_result"
    }
   ],
   "source": [
    "y"
   ]
  },
  {
   "cell_type": "code",
   "execution_count": 7,
   "metadata": {},
   "outputs": [],
   "source": [
    "df.drop(['label'],inplace=True,axis=1)"
   ]
  },
  {
   "cell_type": "code",
   "execution_count": 8,
   "metadata": {},
   "outputs": [
    {
     "data": {
      "text/plain": [
       "(27455, 784)"
      ]
     },
     "execution_count": 8,
     "metadata": {},
     "output_type": "execute_result"
    }
   ],
   "source": [
    "df.shape"
   ]
  },
  {
   "cell_type": "code",
   "execution_count": 9,
   "metadata": {},
   "outputs": [
    {
     "data": {
      "text/html": [
       "<div>\n",
       "<style scoped>\n",
       "    .dataframe tbody tr th:only-of-type {\n",
       "        vertical-align: middle;\n",
       "    }\n",
       "\n",
       "    .dataframe tbody tr th {\n",
       "        vertical-align: top;\n",
       "    }\n",
       "\n",
       "    .dataframe thead th {\n",
       "        text-align: right;\n",
       "    }\n",
       "</style>\n",
       "<table border=\"1\" class=\"dataframe\">\n",
       "  <thead>\n",
       "    <tr style=\"text-align: right;\">\n",
       "      <th></th>\n",
       "      <th>pixel1</th>\n",
       "      <th>pixel2</th>\n",
       "      <th>pixel3</th>\n",
       "      <th>pixel4</th>\n",
       "      <th>pixel5</th>\n",
       "      <th>pixel6</th>\n",
       "      <th>pixel7</th>\n",
       "      <th>pixel8</th>\n",
       "      <th>pixel9</th>\n",
       "      <th>pixel10</th>\n",
       "      <th>...</th>\n",
       "      <th>pixel775</th>\n",
       "      <th>pixel776</th>\n",
       "      <th>pixel777</th>\n",
       "      <th>pixel778</th>\n",
       "      <th>pixel779</th>\n",
       "      <th>pixel780</th>\n",
       "      <th>pixel781</th>\n",
       "      <th>pixel782</th>\n",
       "      <th>pixel783</th>\n",
       "      <th>pixel784</th>\n",
       "    </tr>\n",
       "  </thead>\n",
       "  <tbody>\n",
       "    <tr>\n",
       "      <th>0</th>\n",
       "      <td>107</td>\n",
       "      <td>118</td>\n",
       "      <td>127</td>\n",
       "      <td>134</td>\n",
       "      <td>139</td>\n",
       "      <td>143</td>\n",
       "      <td>146</td>\n",
       "      <td>150</td>\n",
       "      <td>153</td>\n",
       "      <td>156</td>\n",
       "      <td>...</td>\n",
       "      <td>207</td>\n",
       "      <td>207</td>\n",
       "      <td>207</td>\n",
       "      <td>207</td>\n",
       "      <td>206</td>\n",
       "      <td>206</td>\n",
       "      <td>206</td>\n",
       "      <td>204</td>\n",
       "      <td>203</td>\n",
       "      <td>202</td>\n",
       "    </tr>\n",
       "    <tr>\n",
       "      <th>1</th>\n",
       "      <td>155</td>\n",
       "      <td>157</td>\n",
       "      <td>156</td>\n",
       "      <td>156</td>\n",
       "      <td>156</td>\n",
       "      <td>157</td>\n",
       "      <td>156</td>\n",
       "      <td>158</td>\n",
       "      <td>158</td>\n",
       "      <td>157</td>\n",
       "      <td>...</td>\n",
       "      <td>69</td>\n",
       "      <td>149</td>\n",
       "      <td>128</td>\n",
       "      <td>87</td>\n",
       "      <td>94</td>\n",
       "      <td>163</td>\n",
       "      <td>175</td>\n",
       "      <td>103</td>\n",
       "      <td>135</td>\n",
       "      <td>149</td>\n",
       "    </tr>\n",
       "    <tr>\n",
       "      <th>2</th>\n",
       "      <td>187</td>\n",
       "      <td>188</td>\n",
       "      <td>188</td>\n",
       "      <td>187</td>\n",
       "      <td>187</td>\n",
       "      <td>186</td>\n",
       "      <td>187</td>\n",
       "      <td>188</td>\n",
       "      <td>187</td>\n",
       "      <td>186</td>\n",
       "      <td>...</td>\n",
       "      <td>202</td>\n",
       "      <td>201</td>\n",
       "      <td>200</td>\n",
       "      <td>199</td>\n",
       "      <td>198</td>\n",
       "      <td>199</td>\n",
       "      <td>198</td>\n",
       "      <td>195</td>\n",
       "      <td>194</td>\n",
       "      <td>195</td>\n",
       "    </tr>\n",
       "    <tr>\n",
       "      <th>3</th>\n",
       "      <td>211</td>\n",
       "      <td>211</td>\n",
       "      <td>212</td>\n",
       "      <td>212</td>\n",
       "      <td>211</td>\n",
       "      <td>210</td>\n",
       "      <td>211</td>\n",
       "      <td>210</td>\n",
       "      <td>210</td>\n",
       "      <td>211</td>\n",
       "      <td>...</td>\n",
       "      <td>235</td>\n",
       "      <td>234</td>\n",
       "      <td>233</td>\n",
       "      <td>231</td>\n",
       "      <td>230</td>\n",
       "      <td>226</td>\n",
       "      <td>225</td>\n",
       "      <td>222</td>\n",
       "      <td>229</td>\n",
       "      <td>163</td>\n",
       "    </tr>\n",
       "    <tr>\n",
       "      <th>4</th>\n",
       "      <td>164</td>\n",
       "      <td>167</td>\n",
       "      <td>170</td>\n",
       "      <td>172</td>\n",
       "      <td>176</td>\n",
       "      <td>179</td>\n",
       "      <td>180</td>\n",
       "      <td>184</td>\n",
       "      <td>185</td>\n",
       "      <td>186</td>\n",
       "      <td>...</td>\n",
       "      <td>92</td>\n",
       "      <td>105</td>\n",
       "      <td>105</td>\n",
       "      <td>108</td>\n",
       "      <td>133</td>\n",
       "      <td>163</td>\n",
       "      <td>157</td>\n",
       "      <td>163</td>\n",
       "      <td>164</td>\n",
       "      <td>179</td>\n",
       "    </tr>\n",
       "  </tbody>\n",
       "</table>\n",
       "<p>5 rows × 784 columns</p>\n",
       "</div>"
      ],
      "text/plain": [
       "   pixel1  pixel2  pixel3  pixel4  pixel5  pixel6  pixel7  pixel8  pixel9  \\\n",
       "0     107     118     127     134     139     143     146     150     153   \n",
       "1     155     157     156     156     156     157     156     158     158   \n",
       "2     187     188     188     187     187     186     187     188     187   \n",
       "3     211     211     212     212     211     210     211     210     210   \n",
       "4     164     167     170     172     176     179     180     184     185   \n",
       "\n",
       "   pixel10    ...     pixel775  pixel776  pixel777  pixel778  pixel779  \\\n",
       "0      156    ...          207       207       207       207       206   \n",
       "1      157    ...           69       149       128        87        94   \n",
       "2      186    ...          202       201       200       199       198   \n",
       "3      211    ...          235       234       233       231       230   \n",
       "4      186    ...           92       105       105       108       133   \n",
       "\n",
       "   pixel780  pixel781  pixel782  pixel783  pixel784  \n",
       "0       206       206       204       203       202  \n",
       "1       163       175       103       135       149  \n",
       "2       199       198       195       194       195  \n",
       "3       226       225       222       229       163  \n",
       "4       163       157       163       164       179  \n",
       "\n",
       "[5 rows x 784 columns]"
      ]
     },
     "execution_count": 9,
     "metadata": {},
     "output_type": "execute_result"
    }
   ],
   "source": [
    "df.head()"
   ]
  },
  {
   "cell_type": "code",
   "execution_count": 20,
   "metadata": {},
   "outputs": [
    {
     "data": {
      "text/plain": [
       "202"
      ]
     },
     "execution_count": 20,
     "metadata": {},
     "output_type": "execute_result"
    }
   ],
   "source": [
    "df.iat[0,783]"
   ]
  },
  {
   "cell_type": "code",
   "execution_count": 24,
   "metadata": {},
   "outputs": [],
   "source": [
    "image=np.empty(shape=(28,28),dtype=int)"
   ]
  },
  {
   "cell_type": "code",
   "execution_count": 25,
   "metadata": {},
   "outputs": [],
   "source": [
    "k=0\n",
    "for i in range(0,28):\n",
    "    for j in range(0,28):\n",
    "        image[i,j]=df.iat[0,k]\n",
    "        k=k+1"
   ]
  },
  {
   "cell_type": "code",
   "execution_count": 26,
   "metadata": {},
   "outputs": [
    {
     "data": {
      "text/plain": [
       "array([[107, 118, 127, 134, 139, 143, 146, 150, 153, 156, 158, 160, 163,\n",
       "        165, 159, 166, 168, 170, 170, 171, 171, 171, 172, 171, 171, 170,\n",
       "        170, 169],\n",
       "       [111, 121, 129, 135, 141, 144, 148, 151, 154, 157, 160, 163, 164,\n",
       "        170, 119, 152, 171, 171, 170, 171, 172, 172, 172, 172, 172, 171,\n",
       "        171, 170],\n",
       "       [113, 123, 131, 137, 142, 145, 150, 152, 155, 158, 161, 163, 164,\n",
       "        172, 105, 142, 170, 171, 171, 171, 172, 172, 173, 173, 172, 171,\n",
       "        171, 171],\n",
       "       [116, 125, 133, 139, 143, 146, 151, 153, 156, 159, 162, 163, 167,\n",
       "        167,  95, 144, 171, 172, 172, 172, 172, 172, 173, 173, 173, 172,\n",
       "        172, 171],\n",
       "       [117, 126, 134, 140, 145, 149, 153, 156, 158, 161, 163, 164, 175,\n",
       "        156,  87, 154, 172, 173, 173, 173, 173, 173, 174, 174, 174, 173,\n",
       "        172, 172],\n",
       "       [119, 128, 136, 142, 146, 150, 153, 156, 159, 163, 165, 164, 184,\n",
       "        148,  89, 164, 172, 174, 174, 174, 174, 175, 175, 174, 175, 174,\n",
       "        173, 173],\n",
       "       [122, 130, 138, 143, 147, 150, 154, 158, 162, 165, 166, 172, 181,\n",
       "        128,  94, 170, 173, 175, 174, 175, 176, 177, 177, 177, 177, 175,\n",
       "        175, 174],\n",
       "       [122, 132, 139, 145, 149, 152, 156, 160, 163, 165, 166, 181, 172,\n",
       "        103, 113, 175, 176, 178, 178, 179, 179, 179, 179, 178, 179, 177,\n",
       "        175, 174],\n",
       "       [125, 134, 141, 147, 150, 153, 157, 161, 164, 167, 168, 184, 179,\n",
       "        116, 126, 165, 176, 179, 180, 180, 181, 180, 180, 180, 179, 178,\n",
       "        177, 176],\n",
       "       [128, 135, 142, 148, 152, 154, 158, 162, 165, 168, 170, 187, 180,\n",
       "        156, 161, 124, 143, 179, 178, 178, 181, 182, 181, 180, 181, 180,\n",
       "        179, 179],\n",
       "       [129, 136, 144, 150, 153, 155, 159, 163, 166, 169, 172, 187, 184,\n",
       "        153, 102, 117, 110, 175, 169, 154, 182, 183, 183, 182, 182, 181,\n",
       "        181, 179],\n",
       "       [131, 138, 145, 150, 155, 157, 161, 165, 168, 174, 190, 189, 175,\n",
       "        146,  94,  97, 113, 151, 158, 129, 184, 184, 184, 184, 183, 183,\n",
       "        182, 180],\n",
       "       [131, 139, 146, 151, 155, 159, 163, 167, 175, 182, 179, 171, 159,\n",
       "        114, 102,  89, 121, 136, 136,  96, 172, 186, 186, 185, 185, 184,\n",
       "        182, 181],\n",
       "       [131, 140, 147, 154, 157, 160, 164, 179, 186, 191, 187, 180, 157,\n",
       "        100,  88,  84, 108, 111, 126,  90, 120, 186, 187, 187, 186, 185,\n",
       "        184, 182],\n",
       "       [133, 141, 149, 155, 158, 160, 174, 201, 189, 165, 151, 143, 146,\n",
       "        120,  87,  78,  87,  76, 108,  98,  96, 181, 188, 187, 186, 186,\n",
       "        185, 183],\n",
       "       [133, 141, 150, 156, 160, 161, 179, 197, 174, 135,  99,  72,  95,\n",
       "        134,  97,  72,  74,  68, 116, 105, 108, 187, 189, 187, 187, 186,\n",
       "        186, 185],\n",
       "       [134, 143, 151, 156, 161, 163, 179, 194, 156, 110,  74,  42,  52,\n",
       "        139,  94,  67,  75,  75, 118, 106, 129, 189, 191, 190, 188, 188,\n",
       "        187, 186],\n",
       "       [135, 144, 152, 158, 163, 163, 177, 193, 161, 122,  84,  43,  71,\n",
       "        134,  81,  57,  71,  88, 112,  98, 157, 193, 193, 192, 190, 190,\n",
       "        189, 188],\n",
       "       [136, 144, 152, 158, 162, 163, 176, 192, 164, 128,  98,  62,  60,\n",
       "        100,  71,  76,  96, 101, 105,  95, 174, 195, 194, 194, 194, 193,\n",
       "        191, 190],\n",
       "       [137, 145, 152, 159, 164, 165, 178, 191, 164, 135, 113,  82,  59,\n",
       "         87,  98, 111, 120, 108,  97, 108, 190, 196, 195, 195, 194, 193,\n",
       "        193, 192],\n",
       "       [139, 146, 154, 160, 164, 165, 175, 186, 163, 139, 112,  85,  67,\n",
       "        102, 126, 133, 126, 105, 104, 176, 197, 198, 197, 196, 195, 195,\n",
       "        194, 193],\n",
       "       [138, 147, 155, 161, 165, 167, 172, 186, 163, 137, 107,  87,  76,\n",
       "        106, 122, 125, 117,  96, 156, 199, 199, 200, 198, 196, 196, 195,\n",
       "        195, 194],\n",
       "       [139, 148, 156, 163, 166, 168, 172, 180, 158, 131, 108,  99,  86,\n",
       "        108, 118, 116, 103, 107, 191, 202, 201, 200, 200, 200, 199, 197,\n",
       "        198, 196],\n",
       "       [140, 149, 157, 164, 168, 167, 177, 178, 155, 131, 118, 105,  87,\n",
       "        100, 106, 100,  96, 164, 202, 202, 202, 202, 202, 201, 200, 199,\n",
       "        199, 198],\n",
       "       [140, 150, 157, 165, 167, 170, 181, 175, 152, 130, 115,  98,  82,\n",
       "         85,  90,  99, 165, 202, 203, 204, 203, 203, 202, 202, 201, 201,\n",
       "        200, 200],\n",
       "       [142, 150, 159, 165, 170, 191, 173, 157, 144, 119,  97,  84,  79,\n",
       "         79,  91, 172, 202, 203, 203, 205, 204, 204, 204, 203, 202, 202,\n",
       "        201, 200],\n",
       "       [142, 151, 160, 165, 188, 190, 187, 150, 119, 109,  85,  79,  79,\n",
       "         78, 137, 203, 205, 206, 206, 207, 207, 206, 206, 204, 205, 204,\n",
       "        203, 202],\n",
       "       [142, 151, 160, 172, 196, 188, 188, 190, 135,  96,  86,  77,  77,\n",
       "         79, 176, 205, 207, 207, 207, 207, 207, 207, 206, 206, 206, 204,\n",
       "        203, 202]])"
      ]
     },
     "execution_count": 26,
     "metadata": {},
     "output_type": "execute_result"
    }
   ],
   "source": [
    "image"
   ]
  },
  {
   "cell_type": "code",
   "execution_count": 28,
   "metadata": {},
   "outputs": [
    {
     "data": {
      "image/png": "[encoded data removed]",
      "text/plain": [
       "<matplotlib.figure.Figure at 0x22925b5e160>"
      ]
     },
     "metadata": {},
     "output_type": "display_data"
    }
   ],
   "source": [
    "plt.imshow(image, cmap='gray')\n",
    "plt.show()"
   ]
  },
  {
   "cell_type": "code",
   "execution_count": 30,
   "metadata": {},
   "outputs": [],
   "source": [
    "image2=np.empty(shape=(28,28),dtype=int)\n",
    "k=0\n",
    "for i in range(0,28):\n",
    "    for j in range(0,28):\n",
    "        image2[i,j]=df.iat[1,k]\n",
    "        k=k+1"
   ]
  },
  {
   "cell_type": "code",
   "execution_count": 32,
   "metadata": {},
   "outputs": [
    {
     "data": {
      "image/png": "[encoded data removed]",
      "text/plain": [
       "<matplotlib.figure.Figure at 0x22925f5c6d8>"
      ]
     },
     "metadata": {},
     "output_type": "display_data"
    }
   ],
   "source": [
    "plt.imshow(image2, cmap='gray')\n",
    "plt.show()"
   ]
  },
  {
   "cell_type": "code",
   "execution_count": 36,
   "metadata": {},
   "outputs": [],
   "source": [
    "image3=np.empty(shape=(28,28),dtype=int)\n",
    "k=0\n",
    "for i in range(0,28):\n",
    "    for j in range(0,28):\n",
    "        image3[i,j]=df.iat[2,k]\n",
    "        k=k+1"
   ]
  },
  {
   "cell_type": "code",
   "execution_count": 37,
   "metadata": {},
   "outputs": [
    {
     "data": {
      "image/png": "[encoded data removed]",
      "text/plain": [
       "<matplotlib.figure.Figure at 0x22926007b70>"
      ]
     },
     "metadata": {},
     "output_type": "display_data"
    }
   ],
   "source": [
    "plt.imshow(image3, cmap='gray')\n",
    "plt.show()"
   ]
  },
  {
   "cell_type": "code",
   "execution_count": null,
   "metadata": {},
   "outputs": [],
   "source": []
  }
 ],
 "metadata": {
  "kernelspec": {
   "display_name": "Python 3",
   "language": "python",
   "name": "python3"
  },
  "language_info": {
   "codemirror_mode": {
    "name": "ipython",
    "version": 3
   },
   "file_extension": ".py",
   "mimetype": "text/x-python",
   "name": "python",
   "nbconvert_exporter": "python",
   "pygments_lexer": "ipython3",
   "version": "3.6.4rc1"
  }
 },
 "nbformat": 4,
 "nbformat_minor": 2
}
